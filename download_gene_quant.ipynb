{
 "cells": [
  {
   "cell_type": "code",
   "execution_count": 117,
   "metadata": {},
   "outputs": [],
   "source": [
    "import subprocess\n",
    "import sys\n",
    "from collections import defaultdict\n",
    "\n",
    "import pandas as pd"
   ]
  },
  {
   "cell_type": "code",
   "execution_count": 71,
   "metadata": {},
   "outputs": [],
   "source": [
    "bam_df = pd.read_table('acc_name_table.csv')"
   ]
  },
  {
   "cell_type": "code",
   "execution_count": 72,
   "metadata": {},
   "outputs": [],
   "source": [
    "tissue_bam_acc = {name: acc.split(',') for name, acc in bam_df[['name', 'rna_acc']].values}"
   ]
  },
  {
   "cell_type": "code",
   "execution_count": 73,
   "metadata": {},
   "outputs": [
    {
     "name": "stderr",
     "output_type": "stream",
     "text": [
      "/Users/zjlin/.pyenv/versions/3.6.4/lib/python3.6/site-packages/IPython/core/interactiveshell.py:2785: DtypeWarning: Columns (18,44) have mixed types. Specify dtype option on import or set low_memory=False.\n",
      "  interactivity=interactivity, compiler=compiler, result=result)\n"
     ]
    }
   ],
   "source": [
    "encode_df = pd.read_table('metadata.tsv')"
   ]
  },
  {
   "cell_type": "code",
   "execution_count": 106,
   "metadata": {},
   "outputs": [],
   "source": [
    "exp_acc = defaultdict(set)\n",
    "for tissue, bam_acc_list in tissue_bam_acc.items():\n",
    "    for acc in bam_acc_list:\n",
    "        result = encode_df[encode_df['File accession'] == acc]['Experiment accession']\n",
    "        if result.shape == (1,):\n",
    "            exp_acc[tissue].add(result.iloc[0])\n",
    "        else:\n",
    "            print('Error: shape of result isn\\'t equal to (1,)', file=sys.stderr)"
   ]
  },
  {
   "cell_type": "code",
   "execution_count": 112,
   "metadata": {},
   "outputs": [],
   "source": [
    "gene_exp_acc = defaultdict(list)\n",
    "for tissue, exp_acc_list in exp_acc.items():\n",
    "    for acc in exp_acc_list:\n",
    "        result = encode_df[(encode_df['Experiment accession'] == acc) &\n",
    "                           (encode_df['File format'] == 'tsv') &\n",
    "                           (encode_df['Output type'] == 'gene quantifications') &\n",
    "                           (encode_df['Assembly'] == 'hg19') &\n",
    "                           (encode_df['File Status'] == 'released')]\n",
    "        if result.shape[0]:\n",
    "            gene_exp_acc[tissue].extend(result['File accession'].values)\n",
    "        else:\n",
    "            print('Error: gene quantification file accession not found', file=sys.stderr)"
   ]
  },
  {
   "cell_type": "code",
   "execution_count": 120,
   "metadata": {},
   "outputs": [
    {
     "name": "stdout",
     "output_type": "stream",
     "text": [
      "downloading ENCFF480FTB\n",
      "done\n",
      "downloading ENCFF588AJG\n",
      "done\n",
      "downloading ENCFF269QBU\n",
      "done\n",
      "downloading ENCFF895DWZ\n",
      "done\n",
      "downloading ENCFF831EYH\n",
      "done\n",
      "downloading ENCFF551NWV\n",
      "done\n",
      "downloading ENCFF595PVA\n",
      "done\n",
      "downloading ENCFF081MXC\n",
      "done\n",
      "downloading ENCFF669GZO\n",
      "done\n",
      "downloading ENCFF510YQS\n",
      "done\n",
      "downloading ENCFF024OXS\n",
      "done\n",
      "downloading ENCFF941DKW\n",
      "done\n",
      "downloading ENCFF907VFG\n",
      "done\n",
      "downloading ENCFF400RNS\n",
      "done\n",
      "downloading ENCFF243ECK\n",
      "done\n",
      "downloading ENCFF495CNV\n",
      "done\n",
      "downloading ENCFF983NLH\n",
      "done\n",
      "downloading ENCFF494AVS\n",
      "done\n",
      "downloading ENCFF004LGY\n",
      "done\n",
      "downloading ENCFF222NCB\n",
      "done\n",
      "downloading ENCFF934YBO\n",
      "done\n",
      "downloading ENCFF515MUX\n",
      "done\n"
     ]
    }
   ],
   "source": [
    "download_path = './'\n",
    "with open(download_path + 'gene_quant_acc.tsv', mode='w') as fh:\n",
    "    for tissue, quant_acc in gene_exp_acc.items():\n",
    "        print('{}\\t{}'.format(tissue, ','.join(quant_acc)), file=fh)\n",
    "        for acc in quant_acc:\n",
    "            print('downloading ' + acc)\n",
    "            file_name = acc + '.tsv'\n",
    "            base_url = 'https://www.encodeproject.org/files/{}/@@download/{}'\n",
    "            subprocess.run(['curl', '-o', download_path + file_name, '-L', base_url.format(acc, file_name)])\n",
    "            print('done')"
   ]
  },
  {
   "cell_type": "code",
   "execution_count": null,
   "metadata": {},
   "outputs": [],
   "source": []
  }
 ],
 "metadata": {
  "kernelspec": {
   "display_name": "Python 3",
   "language": "python",
   "name": "python3"
  },
  "language_info": {
   "codemirror_mode": {
    "name": "ipython",
    "version": 3
   },
   "file_extension": ".py",
   "mimetype": "text/x-python",
   "name": "python",
   "nbconvert_exporter": "python",
   "pygments_lexer": "ipython3",
   "version": "3.6.4"
  }
 },
 "nbformat": 4,
 "nbformat_minor": 2
}
