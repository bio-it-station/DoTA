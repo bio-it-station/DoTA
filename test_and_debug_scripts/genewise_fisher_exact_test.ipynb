{
 "cells": [
  {
   "cell_type": "code",
   "execution_count": null,
   "metadata": {},
   "outputs": [],
   "source": [
    "import sys\n",
    "import pickle\n",
    "\n",
    "import pandas as pd\n",
    "import matplotlib.pyplot as plt\n",
    "import seaborn as sns\n",
    "\n",
    "from statistics import mean, stdev\n",
    "from MulticoreTSNE import MulticoreTSNE as TSNE"
   ]
  },
  {
   "cell_type": "code",
   "execution_count": null,
   "metadata": {},
   "outputs": [],
   "source": [
    "def update_progress_bar(perc, option_info=None):\n",
    "    sys.stdout.write(\n",
    "        '[{:60}] {:.2f}%, {}\\r'.format('=' * int(60 * perc // 100),\n",
    "                                       perc,\n",
    "                                       option_info))\n",
    "    sys.stdout.flush()"
   ]
  },
  {
   "cell_type": "code",
   "execution_count": null,
   "metadata": {},
   "outputs": [],
   "source": [
    "def plot_tsne(x_embedded, y_data):\n",
    "    fig = plt.figure()\n",
    "    ax = fig.add_subplot(111)\n",
    "    ax.scatter(x_embedded[:, 0], x_embedded[:, 1], s=100,\n",
    "               marker='o', c=y_data, cmap='seismic')"
   ]
  },
  {
   "cell_type": "code",
   "execution_count": null,
   "metadata": {},
   "outputs": [],
   "source": [
    "def do_fisher_exact(x_gene_data, y_gene_data, tf_list, sd_threshold=1, pvalue_threshold=0.05):\n",
    "    passed_tf = []\n",
    "    for i, tf_name in enumerate(tf_list):\n",
    "        gene_psi_mean = mean(y_gene_data)\n",
    "        gene_psi_stdev = stdev(y_gene_data)\n",
    "        upper_bound = gene_psi_mean + sd_threshold * gene_psi_stdev\n",
    "        lower_bound = gene_psi_mean + sd_threshold * gene_psi_stdev\n",
    "        psi_high_mask = y_gene_data > upper_bound\n",
    "        psi_low_mask = y_gene_data < lower_bound\n",
    "        tf_bind_mask = x_gene_data[:, i]\n",
    "        _, pvalue = sp.stats.fisher_exact([[(psi_high_mask & tf_bind_mask).sum(),\n",
    "                                            (psi_high_mask & ~tf_bind_mask).sum()],\n",
    "                                           [(psi_low_mask & tf_bind_mask).sum(),\n",
    "                                            (psi_low_mask & ~tf_bind_mask).sum()]])\n",
    "        if pvalue < pvalue_threshold:\n",
    "            passed_tf.append(tf_name)\n",
    "    return passed_tf"
   ]
  },
  {
   "cell_type": "code",
   "execution_count": null,
   "metadata": {},
   "outputs": [],
   "source": [
    "# gene filiter (fisher's exact test)\n",
    "result = {}\n",
    "for i, gene in enumerate(gene_list):\n",
    "    update_progress_bar(i / len(gene_list) * 100,\n",
    "                        '{}/{}'.format(i, len(gene_list)))\n",
    "    if len(psi_list[gene]) <= 2:\n",
    "        continue\n",
    "    gene_mask = data_order['Gene'] == gene\n",
    "    x_temp = x_data[gene_mask]\n",
    "    y_temp = y_data[gene_mask]\n",
    "    result[gene] = do_fisher_exact(x_temp, y_temp, tf_list)"
   ]
  },
  {
   "cell_type": "code",
   "execution_count": null,
   "metadata": {},
   "outputs": [],
   "source": [
    "with open('./input/ML/gene_fisher_exact.pickle', mode='wb') as fh:\n",
    "    pickle.dump(result, fh)"
   ]
  },
  {
   "cell_type": "code",
   "execution_count": null,
   "metadata": {},
   "outputs": [],
   "source": [
    "[(k, v) for k, v  in result.items() if 'PLAG1' in v]"
   ]
  },
  {
   "cell_type": "code",
   "execution_count": null,
   "metadata": {},
   "outputs": [],
   "source": [
    "# do_fisher_exact(x_data[data_order['Gene'] == 'ENSG00000108639'], y_data[data_order['Gene'] == 'ENSG00000108639'], tf_list)\n",
    "y_data[data_order['Gene'] == 'ENSG00000108639']"
   ]
  },
  {
   "cell_type": "code",
   "execution_count": null,
   "metadata": {},
   "outputs": [],
   "source": [
    "temp = []\n",
    "for a, b in combinations(np.arange(15), 2):\n",
    "    x_temp = x_data[data_order['Gene'] == 'ENSG00000108639'][:, tf_list.index('PLAG1')]\n",
    "    y_temp = y_data[data_order['Gene'] == 'ENSG00000108639'].tolist()\n",
    "    temp.append([abs(y_temp[a] - y_temp[b]), x_temp[a] ^ x_temp[b]])"
   ]
  },
  {
   "cell_type": "code",
   "execution_count": null,
   "metadata": {},
   "outputs": [],
   "source": [
    "d = pd.DataFrame(temp, columns=['dZPSI', 'C'])\n",
    "sns.distplot(d[d['C']]['dZPSI'], bins=20)\n",
    "sns.distplot(d[~d['C']]['dZPSI'], bins=20)"
   ]
  },
  {
   "cell_type": "code",
   "execution_count": null,
   "metadata": {},
   "outputs": [],
   "source": [
    "# fetch one gene's x_data and visualize the feature space with t-SNE\n",
    "gene = 'ENSG00000139496'\n",
    "x_temp = x_data[data_order['Gene'] == gene]\n",
    "y_temp = y_data[data_order['Gene'] == gene]\n",
    "sd_threshold = 1\n",
    "gene_psi_mean = mean(y_temp)\n",
    "gene_psi_stdev = stdev(y_temp)\n",
    "psi_filter_mask = ((y_temp > (gene_psi_mean + sd_threshold * gene_psi_stdev)) |\n",
    "                   (y_temp < (gene_psi_mean - sd_threshold * gene_psi_stdev)))\n",
    "x_temp = x_temp[psi_filter_mask]\n",
    "y_temp = y_temp[psi_filter_mask]\n",
    "x_temp = TSNE(n_components=2,\n",
    "              perplexity=100.0,\n",
    "              learning_rate=50,\n",
    "              n_iter=10000,\n",
    "              n_jobs=16,\n",
    "              random_state=seed).fit_transform(x_temp)\n",
    "plot_tsne(x_temp, y_temp)"
   ]
  }
 ],
 "metadata": {
  "kernelspec": {
   "display_name": "Python 3",
   "language": "python",
   "name": "python3"
  },
  "language_info": {
   "codemirror_mode": {
    "name": "ipython",
    "version": 3
   },
   "file_extension": ".py",
   "mimetype": "text/x-python",
   "name": "python",
   "nbconvert_exporter": "python",
   "pygments_lexer": "ipython3",
   "version": "3.5.2"
  }
 },
 "nbformat": 4,
 "nbformat_minor": 2
}
