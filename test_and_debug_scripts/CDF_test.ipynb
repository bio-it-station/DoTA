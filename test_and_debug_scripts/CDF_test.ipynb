{
 "cells": [
  {
   "cell_type": "code",
   "execution_count": 1,
   "metadata": {},
   "outputs": [],
   "source": [
    "import pickle\n",
    "import numpy as np\n",
    "import pandas as pd\n",
    "from scipy.stats import ks_2samp, mannwhitneyu\n",
    "import matplotlib.pyplot as plt\n",
    "import seaborn as sns\n",
    "from statsmodels.stats.multitest import multipletests"
   ]
  },
  {
   "cell_type": "code",
   "execution_count": 2,
   "metadata": {},
   "outputs": [],
   "source": [
    "def do_ks_test(X, Y, idx, tf):\n",
    "    feature_0 = Y[np.where(X[:, idx] == 0)[0]]\n",
    "    feature_1 = Y[np.where(X[:, idx] == 1)[0]]\n",
    "    if feature_0.shape[0] and feature_1.shape[0]:\n",
    "        data = (feature_0, feature_1)\n",
    "        mww_boxplot(data)\n",
    "        return (tf, *mannwhitneyu(feature_0, feature_1), *ks_2samp(feature_0, feature_1))\n",
    "    return None"
   ]
  },
  {
   "cell_type": "code",
   "execution_count": 3,
   "metadata": {},
   "outputs": [],
   "source": [
    "def mww_boxplot(data):\n",
    "    #Creates two subplots and unpacks the output array immediately\n",
    "    labels = ['{}:{}'.format(idx, len(x)) for idx, x in enumerate(data)]\n",
    "    \n",
    "    fig = plt.figure(figsize=(2.0, 4.0), dpi=200)\n",
    "    ax = sns.boxplot(data=data, showfliers=False)\n",
    "    # ax.axes.get_xaxis().set_visible(False)\n",
    "    ax.set_xticklabels(labels)\n",
    "    ax.set_ylabel(r'$\\Delta Z_{\\Psi}$', fontsize=14)\n",
    "    fig.tight_layout()\n",
    "#     fig.savefig('{}_boxplot.png'.format(TF), transparent=True)"
   ]
  },
  {
   "cell_type": "code",
   "execution_count": 4,
   "metadata": {},
   "outputs": [],
   "source": [
    "def plot_cdf(data) -> None:\n",
    "    labels = ['{}:{}'.format(idx, len(x)) for idx, x in enumerate(data)]\n",
    "\n",
    "    _, ax = plt.subplots()\n",
    "    for d, label in zip(data, labels):\n",
    "        n = np.arange(1, len(d) + 1) / np.float(len(d))\n",
    "        Xs = np.sort(d)\n",
    "        ax.step(Xs, n, label=label)\n",
    "\n",
    "    plt.legend(loc='upper left')\n",
    "#     plt.savefig('{}.png'.format(file_out), dpi=300)\n",
    "#     plt.clf()\n",
    "#     plt.close()\n",
    "#     plt.gcf().clear()"
   ]
  },
  {
   "cell_type": "code",
   "execution_count": 29,
   "metadata": {},
   "outputs": [],
   "source": [
    "with open('../input/weight_zscore_rf_delta_data.pickle', mode='rb') as fh:\n",
    "    X, Y, Tf_list = pickle.load(fh)\n",
    "#     Y = Y['PSI'].values"
   ]
  },
  {
   "cell_type": "code",
   "execution_count": 7,
   "metadata": {},
   "outputs": [],
   "source": [
    "idx = Tf_list.index('ZNF354C')\n",
    "TF = Tf_list[idx]"
   ]
  },
  {
   "cell_type": "code",
   "execution_count": 43,
   "metadata": {},
   "outputs": [
    {
     "data": {
      "text/plain": [
       "[ENSG00000000419, ENSG00000000457, ENSG00000001167, ENSG00000001460, ENSG00000001497, ..., ENSG00000273000, ENSG00000273045, ENSG00000273047, ENSG00000273247, ENSG00000273345]\n",
       "Length: 7438\n",
       "Categories (7438, object): [ENSG00000000419, ENSG00000000457, ENSG00000001167, ENSG00000001460, ..., ENSG00000273045, ENSG00000273047, ENSG00000273247, ENSG00000273345]"
      ]
     },
     "execution_count": 43,
     "metadata": {},
     "output_type": "execute_result"
    }
   ],
   "source": [
    "Y['Gene'].sort_values().unique()"
   ]
  },
  {
   "cell_type": "code",
   "execution_count": 34,
   "metadata": {},
   "outputs": [
    {
     "data": {
      "image/png": "[encoded data removed]",
      "text/plain": [
       "<Figure size 400x800 with 1 Axes>"
      ]
     },
     "metadata": {},
     "output_type": "display_data"
    }
   ],
   "source": [
    "result = do_ks_test(X, Y, idx, TF)"
   ]
  },
  {
   "cell_type": "code",
   "execution_count": 36,
   "metadata": {},
   "outputs": [
    {
     "data": {
      "text/plain": [
       "('ZNF354C',\n",
       " 21649764026.5,\n",
       " 2.047754443728455e-139,\n",
       " 0.03501410366999269,\n",
       " 2.603589922169555e-103)"
      ]
     },
     "execution_count": 36,
     "metadata": {},
     "output_type": "execute_result"
    }
   ],
   "source": [
    "result"
   ]
  },
  {
   "cell_type": "code",
   "execution_count": 37,
   "metadata": {},
   "outputs": [],
   "source": [
    "d = {result[0]: result[1:]}"
   ]
  },
  {
   "cell_type": "code",
   "execution_count": 10,
   "metadata": {},
   "outputs": [],
   "source": [
    "import pandas as pd"
   ]
  },
  {
   "cell_type": "code",
   "execution_count": 39,
   "metadata": {},
   "outputs": [
    {
     "data": {
      "text/plain": [
       "{'ZNF354C': (21649764026.5,\n",
       "  2.047754443728455e-139,\n",
       "  0.03501410366999269,\n",
       "  2.603589922169555e-103)}"
      ]
     },
     "execution_count": 39,
     "metadata": {},
     "output_type": "execute_result"
    }
   ],
   "source": [
    "d"
   ]
  },
  {
   "cell_type": "code",
   "execution_count": 41,
   "metadata": {},
   "outputs": [
    {
     "data": {
      "text/html": [
       "<div>\n",
       "<style scoped>\n",
       "    .dataframe tbody tr th:only-of-type {\n",
       "        vertical-align: middle;\n",
       "    }\n",
       "\n",
       "    .dataframe tbody tr th {\n",
       "        vertical-align: top;\n",
       "    }\n",
       "\n",
       "    .dataframe thead th {\n",
       "        text-align: right;\n",
       "    }\n",
       "</style>\n",
       "<table border=\"1\" class=\"dataframe\">\n",
       "  <thead>\n",
       "    <tr style=\"text-align: right;\">\n",
       "      <th></th>\n",
       "      <th>mann_stat</th>\n",
       "      <th>mann_pval</th>\n",
       "      <th>ks_stat</th>\n",
       "      <th>ks_pval</th>\n",
       "    </tr>\n",
       "  </thead>\n",
       "  <tbody>\n",
       "    <tr>\n",
       "      <th>ZNF354C</th>\n",
       "      <td>2.164976e+10</td>\n",
       "      <td>2.047754e-139</td>\n",
       "      <td>0.035014</td>\n",
       "      <td>2.603590e-103</td>\n",
       "    </tr>\n",
       "  </tbody>\n",
       "</table>\n",
       "</div>"
      ],
      "text/plain": [
       "            mann_stat      mann_pval   ks_stat        ks_pval\n",
       "ZNF354C  2.164976e+10  2.047754e-139  0.035014  2.603590e-103"
      ]
     },
     "execution_count": 41,
     "metadata": {},
     "output_type": "execute_result"
    }
   ],
   "source": [
    "pd.DataFrame.from_dict(d, orient='index', columns=['mann_stat', 'mann_pval', 'ks_stat', 'ks_pval'])"
   ]
  },
  {
   "cell_type": "code",
   "execution_count": 68,
   "metadata": {},
   "outputs": [],
   "source": [
    "import glob\n",
    "import shutil\n",
    "from os.path import basename"
   ]
  },
  {
   "cell_type": "code",
   "execution_count": 51,
   "metadata": {},
   "outputs": [
    {
     "data": {
      "text/plain": [
       "['test/a_1.txt', 'test/a.txt']"
      ]
     },
     "execution_count": 51,
     "metadata": {},
     "output_type": "execute_result"
    }
   ],
   "source": [
    "glob.glob('test/a*.txt')"
   ]
  },
  {
   "cell_type": "code",
   "execution_count": 52,
   "metadata": {},
   "outputs": [],
   "source": [
    "path1 = './test/'\n",
    "tf = 'a'\n",
    "path2 = 'test2'"
   ]
  },
  {
   "cell_type": "code",
   "execution_count": 70,
   "metadata": {},
   "outputs": [],
   "source": [
    "for file in glob.glob('{}{}*.txt'.format(path1, tf)):\n",
    "    shutil.move(file, path1 + path2)"
   ]
  },
  {
   "cell_type": "code",
   "execution_count": 11,
   "metadata": {},
   "outputs": [],
   "source": [
    "with open('../gene_tfbs.pkl', 'rb') as fh:\n",
    "    tfbs_list = pickle.load(fh)"
   ]
  },
  {
   "cell_type": "code",
   "execution_count": 13,
   "metadata": {},
   "outputs": [],
   "source": [
    "tfbs_df = (~pd.DataFrame.from_dict(tfbs_list)[Tf_list]).astype(np.int)"
   ]
  },
  {
   "cell_type": "code",
   "execution_count": 27,
   "metadata": {},
   "outputs": [
    {
     "data": {
      "text/plain": [
       "57773"
      ]
     },
     "execution_count": 27,
     "metadata": {},
     "output_type": "execute_result"
    }
   ],
   "source": [
    "tfbs_df['ALX3'].size"
   ]
  },
  {
   "cell_type": "code",
   "execution_count": 22,
   "metadata": {},
   "outputs": [
    {
     "name": "stdout",
     "output_type": "stream",
     "text": [
      "ALX3 6596\n",
      "AR 268\n",
      "ASCL1 464\n",
      "ATF4 2487\n",
      "ATF7 9385\n",
      "BACH2 456\n",
      "BARX1 7614\n",
      "BATF3 3742\n",
      "BCL6B 669\n",
      "BHLHE40 7408\n",
      "BHLHE41 8390\n",
      "CDX1 2911\n",
      "CDX2 1277\n",
      "CEBPA 942\n",
      "CEBPB 3625\n",
      "CEBPD 3736\n",
      "CEBPE 3747\n",
      "CEBPG 6229\n",
      "CENPB 6633\n",
      "CLOCK 6081\n",
      "CREB1 3854\n",
      "CREB3 9494\n",
      "CREB3L1 2467\n",
      "CTCF 543\n",
      "CTCFL 1476\n",
      "CUX1 12510\n",
      "CUX2 13396\n",
      "DBP 10513\n",
      "DLX6 6558\n",
      "E2F1 20196\n",
      "E2F2 11764\n",
      "E2F3 16114\n",
      "E2F4 12278\n",
      "E2F6 89\n",
      "E2F7 1836\n",
      "E2F8 1134\n",
      "EBF1 1441\n",
      "EGR1 3629\n",
      "EGR2 4316\n",
      "EGR3 2283\n",
      "EGR4 1762\n",
      "EHF 557\n",
      "ELF1 834\n",
      "ELF3 469\n",
      "ELF4 1125\n",
      "ELF5 296\n",
      "ELK1 6925\n",
      "ELK3 4940\n",
      "ELK4 260\n",
      "EMX2 8378\n",
      "EOMES 558\n",
      "ERF 2200\n",
      "ERG 1965\n",
      "ESR1 1893\n",
      "ESR2 408\n",
      "ESRRA 217\n",
      "ESRRB 790\n",
      "ETS1 1420\n",
      "ETV1 5090\n",
      "ETV2 596\n",
      "ETV3 2424\n",
      "ETV4 3557\n",
      "ETV5 7684\n",
      "ETV6 327\n",
      "EVX1 4400\n",
      "FEV 2695\n",
      "FLI1 2075\n",
      "FOS 1337\n",
      "FOSL1 755\n",
      "FOSL2 712\n",
      "FOXA1 1048\n",
      "FOXB1 2486\n",
      "FOXC1 1545\n",
      "FOXC2 1351\n",
      "FOXD1 2828\n",
      "FOXD2 1609\n",
      "FOXF2 1855\n",
      "FOXG1 3277\n",
      "FOXH1 1453\n",
      "FOXK1 941\n",
      "FOXK2 1710\n",
      "FOXL1 1926\n",
      "FOXO3 875\n",
      "FOXO4 933\n",
      "FOXO6 1079\n",
      "FOXP1 1097\n",
      "FOXP2 643\n",
      "FOXP3 1664\n",
      "GABPA 950\n",
      "GATA2 3397\n",
      "GATA3 5107\n",
      "GATA5 4556\n",
      "GATA6 854\n",
      "GCM1 939\n",
      "GLI2 877\n",
      "GLIS1 3936\n",
      "GLIS2 1077\n",
      "GLIS3 722\n",
      "GMEB2 35534\n",
      "GRHL1 8418\n",
      "GRHL2 1611\n",
      "GSC 2784\n",
      "HES5 4771\n",
      "HES7 5338\n",
      "HESX1 4321\n",
      "HEY1 11638\n",
      "HEY2 5825\n",
      "HIC2 311\n",
      "HIF1A 19867\n",
      "HINFP 6852\n",
      "HLF 7434\n",
      "HMBOX1 6079\n",
      "HNF1A 4523\n",
      "HNF1B 5737\n",
      "HNF4A 109\n",
      "HNF4G 107\n",
      "HOXA10 2830\n",
      "HOXA13 2666\n",
      "HOXA2 5981\n",
      "HOXA5 2956\n",
      "HOXB2 3962\n",
      "HOXB3 3685\n",
      "HOXC10 6069\n",
      "HSF1 2719\n",
      "HSF2 2335\n",
      "HSF4 2885\n",
      "ID4 307\n",
      "INSM1 388\n",
      "IRF1 201\n",
      "IRF2 937\n",
      "IRF3 322\n",
      "IRF4 2011\n",
      "IRF5 1763\n",
      "IRF7 682\n",
      "IRF8 1435\n",
      "IRF9 1077\n",
      "ISL2 1421\n",
      "ISX 6699\n",
      "JDP2 589\n",
      "JUN 128\n",
      "JUNB 395\n",
      "JUND 128\n",
      "KLF13 970\n",
      "KLF14 1402\n",
      "KLF16 723\n",
      "KLF4 337\n",
      "KLF5 142\n",
      "KLF9 492\n",
      "LBX1 6093\n",
      "LBX2 5126\n",
      "LEF1 462\n",
      "LHX6 11665\n",
      "LMX1A 8851\n",
      "MAFF 1475\n",
      "MAFG 2831\n",
      "MAFK 1581\n",
      "MAX 4919\n",
      "MEF2A 2758\n",
      "MEF2B 2982\n",
      "MEF2C 1024\n",
      "MEF2D 2570\n",
      "MEIS1 840\n",
      "MEIS2 524\n",
      "MEIS3 435\n",
      "MEOX1 7269\n",
      "MEOX2 6576\n",
      "MGA 581\n",
      "MITF 4054\n",
      "MIXL1 7405\n",
      "MLX 8185\n",
      "MLXIPL 1307\n",
      "MNT 5000\n",
      "MNX1 4793\n",
      "MSC 315\n",
      "MSX1 5603\n",
      "MSX2 6019\n",
      "MTF1 2222\n",
      "MXI1 4531\n",
      "MYB 6647\n",
      "MYBL1 17925\n",
      "MYBL2 16869\n",
      "MYC 2752\n",
      "MYCN 6130\n",
      "MYF6 999\n",
      "MZF1 62\n",
      "NEUROD1 138\n",
      "NFATC2 199\n",
      "NFATC3 480\n",
      "NFE2 1946\n",
      "NFE2L2 598\n",
      "NFIA 502\n",
      "NFIC 202\n",
      "NFIL3 7811\n",
      "NFIX 254\n",
      "NFKB1 2858\n",
      "NFKB2 3534\n",
      "NFYA 1849\n",
      "NFYB 2207\n",
      "NKX2-3 262\n",
      "NKX3-1 6243\n",
      "NKX3-2 570\n",
      "NKX6-2 6215\n",
      "NR1H4 1778\n",
      "NR2C2 193\n",
      "NR2F1 2061\n",
      "NR2F2 282\n",
      "NR3C1 5386\n",
      "NR3C2 6322\n",
      "NR4A1 726\n",
      "NR4A2 89\n",
      "NRF1 4207\n",
      "NRL 966\n",
      "OLIG1 6520\n",
      "OLIG2 6288\n",
      "ONECUT2 4903\n",
      "ONECUT3 3215\n",
      "OTX1 3540\n",
      "OTX2 2480\n",
      "PAX3 10566\n",
      "PAX4 10602\n",
      "PAX5 2519\n",
      "PAX6 2754\n",
      "PAX7 8876\n",
      "PAX9 3559\n",
      "PBX1 1750\n",
      "PBX2 534\n",
      "PBX3 197\n",
      "PDX1 6640\n",
      "PHOX2A 5440\n",
      "PITX3 1451\n",
      "PKNOX1 829\n",
      "PKNOX2 511\n",
      "PLAG1 647\n",
      "POU2F1 3050\n",
      "POU2F2 1080\n",
      "POU3F1 3047\n",
      "POU3F2 2993\n",
      "POU3F3 2868\n",
      "POU4F1 3780\n",
      "POU5F1 1082\n",
      "POU5F1B 3156\n",
      "POU6F1 12034\n",
      "PPARG 669\n",
      "PRDM1 745\n",
      "PROX1 3727\n",
      "PRRX1 5926\n",
      "RARA 3\n",
      "RBPJ 347\n",
      "REL 598\n",
      "RELA 797\n",
      "RELB 418\n",
      "REST 359\n",
      "RFX2 5908\n",
      "RFX3 4569\n",
      "RFX4 2391\n",
      "RFX5 5382\n",
      "RORA 69\n",
      "RORC 1405\n",
      "RREB1 186\n",
      "RUNX1 1742\n",
      "RUNX2 1425\n",
      "RUNX3 1015\n",
      "RXRB 213\n",
      "RXRG 216\n",
      "SIX1 1168\n",
      "SIX2 484\n",
      "SMAD3 6823\n",
      "SNAI2 172\n",
      "SOX10 307\n",
      "SOX13 1213\n",
      "SOX15 718\n",
      "SOX4 1264\n",
      "SOX8 1885\n",
      "SOX9 3012\n",
      "SP1 53\n",
      "SP2 239\n",
      "SP3 617\n",
      "SP4 1159\n",
      "SP8 551\n",
      "SPDEF 3577\n",
      "SPI1 250\n",
      "SPIB 220\n",
      "SREBF1 444\n",
      "SREBF2 117\n",
      "SRF 5640\n",
      "STAT1 236\n",
      "STAT3 256\n",
      "T 5179\n",
      "TBX1 408\n",
      "TBX15 241\n",
      "TBX19 5784\n",
      "TBX2 632\n",
      "TBX20 316\n",
      "TBX21 379\n",
      "TBX4 392\n",
      "TBX5 307\n",
      "TCF3 522\n",
      "TCF4 303\n",
      "TCF7L1 346\n",
      "TCF7L2 341\n",
      "TEAD1 644\n",
      "TEAD2 194\n",
      "TEAD3 728\n",
      "TEAD4 1131\n",
      "TEF 12342\n",
      "TFAP2A 572\n",
      "TFAP2C 523\n",
      "TFAP4 786\n",
      "TFCP2 7844\n",
      "TFDP1 4398\n",
      "TFE3 2019\n",
      "TFEB 2607\n",
      "TFEC 1482\n",
      "TGIF1 1084\n",
      "TGIF2 1270\n",
      "THAP1 364\n",
      "TP53 3688\n",
      "TP63 6896\n",
      "TWIST1 204\n",
      "USF1 437\n",
      "USF2 2241\n",
      "VAX2 7143\n",
      "VDR 520\n",
      "VENTX 7077\n",
      "XBP1 10779\n",
      "YY1 219\n",
      "YY2 1200\n",
      "ZBED1 18281\n",
      "ZBTB18 126\n",
      "ZBTB33 16630\n",
      "ZBTB7A 1231\n",
      "ZBTB7B 1132\n",
      "ZBTB7C 736\n",
      "ZEB1 785\n",
      "ZIC1 1616\n",
      "ZIC3 1174\n",
      "ZIC4 1768\n",
      "ZNF143 288\n",
      "ZNF24 1395\n",
      "ZNF263 36\n",
      "ZNF282 502\n",
      "ZNF354C 576\n",
      "ZNF384 1424\n",
      "ZNF410 1750\n",
      "ZNF740 1972\n"
     ]
    }
   ],
   "source": [
    "for i in tfbs_df.columns:\n",
    "    print(i, sum(tfbs_df[i]))"
   ]
  }
 ],
 "metadata": {
  "kernelspec": {
   "display_name": "Python 3",
   "language": "python",
   "name": "python3"
  },
  "language_info": {
   "codemirror_mode": {
    "name": "ipython",
    "version": 3
   },
   "file_extension": ".py",
   "mimetype": "text/x-python",
   "name": "python",
   "nbconvert_exporter": "python",
   "pygments_lexer": "ipython3",
   "version": "3.5.2"
  }
 },
 "nbformat": 4,
 "nbformat_minor": 2
}
