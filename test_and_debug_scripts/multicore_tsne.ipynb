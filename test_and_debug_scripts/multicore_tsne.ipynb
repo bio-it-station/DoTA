{
 "cells": [
  {
   "cell_type": "code",
   "execution_count": null,
   "metadata": {},
   "outputs": [],
   "source": [
    "import sys\n",
    "import pickle\n",
    "\n",
    "import numpy as np\n",
    "import matplotlib.pyplot as plt\n",
    "\n",
    "from itertools import combinations\n",
    "from sklearn.decomposition import PCA\n",
    "from MulticoreTSNE import MulticoreTSNE as TSNE"
   ]
  },
  {
   "cell_type": "code",
   "execution_count": null,
   "metadata": {},
   "outputs": [],
   "source": [
    "def plot_tsne(x_embedded, y_data, output_file=False):\n",
    "    fig = plt.figure()\n",
    "    ax = fig.add_subplot(111)\n",
    "    ax.scatter(x_embedded[:, 0], x_embedded[:, 1], s=100,\n",
    "               marker='o', c=y_data, cmap='seismic')\n",
    "    if output_file:\n",
    "        fig.savefig('tsne_tf_feature.png', dpi=300)"
   ]
  },
  {
   "cell_type": "code",
   "execution_count": null,
   "metadata": {},
   "outputs": [],
   "source": [
    "def inspect_feature(x_data, y_data, use_pca=False, pca_comp=100, random_state=None):\n",
    "    np.random.seed(random_state)\n",
    "    rand_idx = np.random.randint(0, len(x_data), size=round(len(x_data) * 0.3))\n",
    "    x_data_sub = x_data[rand_idx]\n",
    "    y_data_sub = y_data[rand_idx]\n",
    "\n",
    "    if use_pca:\n",
    "        x_data_sub = PCA(n_components=pca_comp,\n",
    "                         random_state=random_state).fit_transform(x_data_sub)\n",
    "\n",
    "    x_embedded = TSNE(n_components=2,\n",
    "                      perplexity=50.0,\n",
    "                      n_jobs=16,\n",
    "                      random_state=random_state).fit_transform(x_data_sub)\n",
    "\n",
    "    plot_tsne(x_embedded, y_data_sub, output_file=False)"
   ]
  },
  {
   "cell_type": "code",
   "execution_count": null,
   "metadata": {},
   "outputs": [],
   "source": [
    "with open('/home/chenghung/DoTA/input/rf_data/human_weight_rf_data.pickle', mode='rb') as fh:\n",
    "    x_data, y, tf_list = pickle.load(fh)\n",
    "    data_order = y[['Gene', 'Tissue']]\n",
    "    y_data = y['PSI']"
   ]
  },
  {
   "cell_type": "code",
   "execution_count": null,
   "metadata": {},
   "outputs": [],
   "source": [
    "inspect_feature(x_data, y_data, pca_comp=None, random_state=9487)"
   ]
  }
 ],
 "metadata": {
  "kernelspec": {
   "display_name": "Python 3",
   "language": "python",
   "name": "python3"
  },
  "language_info": {
   "codemirror_mode": {
    "name": "ipython",
    "version": 3
   },
   "file_extension": ".py",
   "mimetype": "text/x-python",
   "name": "python",
   "nbconvert_exporter": "python",
   "pygments_lexer": "ipython3",
   "version": "3.5.2"
  }
 },
 "nbformat": 4,
 "nbformat_minor": 2
}
