{
 "cells": [
  {
   "cell_type": "code",
   "execution_count": null,
   "metadata": {},
   "outputs": [],
   "source": [
    "import numpy as np\n",
    "import pandas as pd\n",
    "import pickle\n",
    "import seaborn as sns\n",
    "import matplotlib.pyplot as plt\n",
    "\n",
    "from collections import Counter, defaultdict\n",
    "\n",
    "%matplotlib inline"
   ]
  },
  {
   "cell_type": "code",
   "execution_count": null,
   "metadata": {},
   "outputs": [],
   "source": [
    "with open('input/human_weight_delta_zscore_data.pickle', 'rb') as fh:\n",
    "    x, y, tf_list = pickle.load(fh)"
   ]
  },
  {
   "cell_type": "code",
   "execution_count": null,
   "metadata": {},
   "outputs": [],
   "source": [
    "df = pd.DataFrame(np.sum(x, axis=1, dtype=np.int32), columns=['delta feature sum'])\n",
    "df['delta psi'] = y"
   ]
  },
  {
   "cell_type": "code",
   "execution_count": null,
   "metadata": {
    "scrolled": false
   },
   "outputs": [],
   "source": [
    "# feature as x and psi as y\n",
    "df1 = df[df['delta feature sum'] < 50]\n",
    "fig = plt.figure(figsize=(8.0, 8.0))\n",
    "sns.boxplot(x=\"delta feature sum\", y=\"delta psi\", data=df1)\n",
    "fig.tight_layout()\n",
    "# plt.savefig('results/box_plot.png', dpi=300)"
   ]
  },
  {
   "cell_type": "code",
   "execution_count": null,
   "metadata": {},
   "outputs": [],
   "source": [
    "# psi as x and feature as y\n",
    "labels = [\"{0} - {1}\".format(i/10000, (i + 499)/10000) for i in range(0, 10000, 500)]\n",
    "df['group'] = pd.cut(df['delta psi']*10000, range(0, 10500, 500), right=False, labels=labels)\n",
    "\n",
    "fig = plt.figure(figsize=(16.0, 4.0))\n",
    "sns.boxplot(x=\"group\", y=\"delta feature sum\", data=df)\n",
    "fig.tight_layout()\n",
    "# plt.savefig('results/box_plot.png', dpi=300)"
   ]
  }
 ],
 "metadata": {
  "kernelspec": {
   "display_name": "Python 3",
   "language": "python",
   "name": "python3"
  },
  "language_info": {
   "codemirror_mode": {
    "name": "ipython",
    "version": 3
   },
   "file_extension": ".py",
   "mimetype": "text/x-python",
   "name": "python",
   "nbconvert_exporter": "python",
   "pygments_lexer": "ipython3",
   "version": "3.6.5"
  }
 },
 "nbformat": 4,
 "nbformat_minor": 2
}
